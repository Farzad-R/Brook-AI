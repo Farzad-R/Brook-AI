{
 "cells": [
  {
   "cell_type": "code",
   "execution_count": 1,
   "metadata": {},
   "outputs": [],
   "source": [
    "import sqlite3\n",
    "import pandas as pd\n",
    "from pyprojroot import here"
   ]
  },
  {
   "cell_type": "code",
   "execution_count": 7,
   "metadata": {},
   "outputs": [
    {
     "data": {
      "text/html": [
       "<div>\n",
       "<style scoped>\n",
       "    .dataframe tbody tr th:only-of-type {\n",
       "        vertical-align: middle;\n",
       "    }\n",
       "\n",
       "    .dataframe tbody tr th {\n",
       "        vertical-align: top;\n",
       "    }\n",
       "\n",
       "    .dataframe thead th {\n",
       "        text-align: right;\n",
       "    }\n",
       "</style>\n",
       "<table border=\"1\" class=\"dataframe\">\n",
       "  <thead>\n",
       "    <tr style=\"text-align: right;\">\n",
       "      <th></th>\n",
       "      <th>name</th>\n",
       "    </tr>\n",
       "  </thead>\n",
       "  <tbody>\n",
       "    <tr>\n",
       "      <th>0</th>\n",
       "      <td>aircrafts_data</td>\n",
       "    </tr>\n",
       "    <tr>\n",
       "      <th>1</th>\n",
       "      <td>airports_data</td>\n",
       "    </tr>\n",
       "    <tr>\n",
       "      <th>2</th>\n",
       "      <td>boarding_passes</td>\n",
       "    </tr>\n",
       "    <tr>\n",
       "      <th>3</th>\n",
       "      <td>bookings</td>\n",
       "    </tr>\n",
       "    <tr>\n",
       "      <th>4</th>\n",
       "      <td>flights</td>\n",
       "    </tr>\n",
       "    <tr>\n",
       "      <th>5</th>\n",
       "      <td>seats</td>\n",
       "    </tr>\n",
       "    <tr>\n",
       "      <th>6</th>\n",
       "      <td>ticket_flights</td>\n",
       "    </tr>\n",
       "    <tr>\n",
       "      <th>7</th>\n",
       "      <td>tickets</td>\n",
       "    </tr>\n",
       "    <tr>\n",
       "      <th>8</th>\n",
       "      <td>car_rentals</td>\n",
       "    </tr>\n",
       "    <tr>\n",
       "      <th>9</th>\n",
       "      <td>hotels</td>\n",
       "    </tr>\n",
       "    <tr>\n",
       "      <th>10</th>\n",
       "      <td>trip_recommendations</td>\n",
       "    </tr>\n",
       "  </tbody>\n",
       "</table>\n",
       "</div>"
      ],
      "text/plain": [
       "                    name\n",
       "0         aircrafts_data\n",
       "1          airports_data\n",
       "2        boarding_passes\n",
       "3               bookings\n",
       "4                flights\n",
       "5                  seats\n",
       "6         ticket_flights\n",
       "7                tickets\n",
       "8            car_rentals\n",
       "9                 hotels\n",
       "10  trip_recommendations"
      ]
     },
     "execution_count": 7,
     "metadata": {},
     "output_type": "execute_result"
    }
   ],
   "source": [
    "# Connect to the SQLite database\n",
    "conn = sqlite3.connect(here('data/travel2.backup.sqlite'))\n",
    "# Get a list of tables in the database\n",
    "tables = pd.read_sql_query(\"SELECT name FROM sqlite_master WHERE type='table';\", conn)\n",
    "tables"
   ]
  },
  {
   "cell_type": "code",
   "execution_count": 4,
   "metadata": {},
   "outputs": [
    {
     "name": "stdout",
     "output_type": "stream",
     "text": [
      "Report generated and saved as 'database_report.md'.\n"
     ]
    }
   ],
   "source": [
    "# # Create a report string\n",
    "# report = \"### Database Report\\n\\n\"\n",
    "\n",
    "# # Introduction\n",
    "# report += \"This report provides an overview of the database, including its structure, key metrics, and insights derived from the data.\\n\\n\"\n",
    "\n",
    "# # Iterate over each table to extract information\n",
    "# for table_name in tables['name']:\n",
    "#     report += f\"#### Table: {table_name}\\n\\n\"\n",
    "    \n",
    "#     # Get table schema\n",
    "#     schema = pd.read_sql_query(f\"PRAGMA table_info({table_name});\", conn)\n",
    "#     report += \"Columns:\\n\\n\"\n",
    "#     for idx, row in schema.iterrows():\n",
    "#         report += f\"- **{row['name']}** ({row['type']})\\n\"\n",
    "    \n",
    "#     # Get sample data\n",
    "#     sample_data = pd.read_sql_query(f\"SELECT * FROM {table_name} LIMIT 5;\", conn)\n",
    "#     report += \"\\nSample Data:\\n\\n\"\n",
    "#     report += sample_data.to_markdown() + \"\\n\\n\"\n",
    "    \n",
    "#     # Summary statistics\n",
    "#     if 'INTEGER' in schema['type'].values or 'REAL' in schema['type'].values:\n",
    "#         summary = pd.read_sql_query(f\"SELECT * FROM {table_name};\", conn).describe()\n",
    "#         report += \"Summary Statistics:\\n\\n\"\n",
    "#         report += summary.to_markdown() + \"\\n\\n\"\n",
    "    \n",
    "#     report += \"\\n\"\n",
    "\n",
    "# # Closing the connection\n",
    "# conn.close()\n",
    "\n",
    "# # Save the report to a markdown file\n",
    "# with open(\"database_report.md\", \"w\") as file:\n",
    "#     file.write(report)\n",
    "\n",
    "# print(\"Report generated and saved as 'database_report.md'.\")"
   ]
  },
  {
   "cell_type": "code",
   "execution_count": 8,
   "metadata": {},
   "outputs": [
    {
     "name": "stdout",
     "output_type": "stream",
     "text": [
      "Report generated and saved as 'database_report.md'.\n"
     ]
    }
   ],
   "source": [
    "# Create a report string\n",
    "report = \"### Database Report\\n\\n\"\n",
    "\n",
    "# Introduction\n",
    "report += \"This report provides an overview of the database, including its structure, key metrics, and insights derived from the data.\\n\\n\"\n",
    "\n",
    "# Iterate over each table to extract information\n",
    "for table_name in tables['name']:\n",
    "    report += f\"#### Table: {table_name}\\n\\n\"\n",
    "    \n",
    "    # Get table schema\n",
    "    schema = pd.read_sql_query(f\"PRAGMA table_info({table_name});\", conn)\n",
    "    report += \"Columns:\\n\\n\"\n",
    "    for idx, row in schema.iterrows():\n",
    "        report += f\"- **{row['name']}** ({row['type']})\\n\"\n",
    "    \n",
    "    # Get row count\n",
    "    row_count = pd.read_sql_query(f\"SELECT COUNT(*) as count FROM {table_name};\", conn)['count'][0]\n",
    "    report += f\"\\nRow Count: {row_count}\\n\\n\"\n",
    "    \n",
    "    # Estimate table size (approximate)\n",
    "    # SQLite doesn't have a direct way to get table size, so we'll estimate it\n",
    "    total_bytes = pd.read_sql_query(f\"PRAGMA page_count;\", conn)['page_count'][0] * pd.read_sql_query(f\"PRAGMA page_size;\", conn)['page_size'][0]\n",
    "    report += f\"Estimated Table Size: {total_bytes / 1024:.2f} KB\\n\\n\"\n",
    "    \n",
    "    # Get sample data\n",
    "    sample_data = pd.read_sql_query(f\"SELECT * FROM {table_name} LIMIT 5;\", conn)\n",
    "    report += \"Sample Data:\\n\\n\"\n",
    "    report += sample_data.to_markdown() + \"\\n\\n\"\n",
    "    \n",
    "    # Summary statistics\n",
    "    if 'INTEGER' in schema['type'].values or 'REAL' in schema['type'].values:\n",
    "        summary = pd.read_sql_query(f\"SELECT * FROM {table_name};\", conn).describe()\n",
    "        report += \"Summary Statistics:\\n\\n\"\n",
    "        report += summary.to_markdown() + \"\\n\\n\"\n",
    "    \n",
    "    report += \"\\n\"\n",
    "\n",
    "# Closing the connection\n",
    "conn.close()\n",
    "\n",
    "# Save the report to a markdown file\n",
    "with open(\"database_report.md\", \"w\") as file:\n",
    "    file.write(report)\n",
    "\n",
    "print(\"Report generated and saved as 'database_report.md'.\")\n"
   ]
  }
 ],
 "metadata": {
  "kernelspec": {
   "display_name": "huge-env",
   "language": "python",
   "name": "python3"
  },
  "language_info": {
   "codemirror_mode": {
    "name": "ipython",
    "version": 3
   },
   "file_extension": ".py",
   "mimetype": "text/x-python",
   "name": "python",
   "nbconvert_exporter": "python",
   "pygments_lexer": "ipython3",
   "version": "3.11.9"
  }
 },
 "nbformat": 4,
 "nbformat_minor": 2
}
